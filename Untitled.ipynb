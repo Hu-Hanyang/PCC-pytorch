{
 "cells": [
  {
   "cell_type": "code",
   "execution_count": 2,
   "metadata": {},
   "outputs": [
    {
     "name": "stdout",
     "output_type": "stream",
     "text": [
      "tensor([[ 0.2364,  0.3401,  0.2660],\n",
      "        [-0.4622,  0.4457, -0.3061],\n",
      "        [-0.0482,  0.3440, -0.4859],\n",
      "        [ 0.5764, -0.0361, -0.0525]])\n",
      "(tensor([0.2364, 0.3401, 0.2660]),)\n"
     ]
    }
   ],
   "source": [
    "import torch\n",
    "\n",
    "def get_jacobian(net, x, noutputs):\n",
    "    x = x.squeeze()\n",
    "    n = x.size()[0]\n",
    "    x = x.repeat(noutputs, 1)\n",
    "    x.requires_grad_(True)\n",
    "    y = net(x)\n",
    "    return torch.autograd.grad(y, x, torch.eye(noutputs))[0]\n",
    "#     return x.grad.data\n",
    "x = torch.randn(3).requires_grad_(True)\n",
    "net = torch.nn.Linear(3,4)\n",
    "y = net(x)\n",
    "# y_repeated = net(x_repeated)\n",
    "grad_inp_repeated = torch.Tensor([1,0,0,0])\n",
    "print (get_jacobian(net, x, 4))\n",
    "print (torch.autograd.grad(y, x, grad_inp_repeated)) # get the first row of jacobian matrix"
   ]
  },
  {
   "cell_type": "code",
   "execution_count": 25,
   "metadata": {},
   "outputs": [
    {
     "data": {
      "text/plain": [
       "(tensor([[-0.2356, -0.7961, -0.2054]]),)"
      ]
     },
     "execution_count": 25,
     "metadata": {},
     "output_type": "execute_result"
    }
   ],
   "source": [
    "# jacobian(x,y)\n",
    "torch.autograd.grad(y,x, torch.Tensor([[1,0,0,0]]))"
   ]
  },
  {
   "cell_type": "code",
   "execution_count": null,
   "metadata": {},
   "outputs": [],
   "source": []
  }
 ],
 "metadata": {
  "kernelspec": {
   "display_name": "Python 3",
   "language": "python",
   "name": "python3"
  },
  "language_info": {
   "codemirror_mode": {
    "name": "ipython",
    "version": 3
   },
   "file_extension": ".py",
   "mimetype": "text/x-python",
   "name": "python",
   "nbconvert_exporter": "python",
   "pygments_lexer": "ipython3",
   "version": "3.6.8"
  }
 },
 "nbformat": 4,
 "nbformat_minor": 2
}

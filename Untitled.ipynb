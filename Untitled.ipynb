{
 "cells": [
  {
   "cell_type": "code",
   "execution_count": 75,
   "metadata": {},
   "outputs": [
    {
     "name": "stdout",
     "output_type": "stream",
     "text": [
      "tensor([[ 0.4416, -0.5234,  0.4594],\n",
      "        [-0.5587,  0.1986, -0.1527],\n",
      "        [-0.1283,  0.3817,  0.1073],\n",
      "        [ 0.3149, -0.4167,  0.1887]])\n",
      "(tensor([ 0.4416, -0.5234,  0.4594]),)\n"
     ]
    }
   ],
   "source": [
    "import torch\n",
    "\n",
    "def jacobian(x,y):\n",
    "    J = torch.zeros((len(x), len(y)))\n",
    "    for i in range(len(x)):\n",
    "        J[:, i] = torch.autograd.grad(y[i], x, retain_graph=True)[0].squeeze()\n",
    "#         J.append(torch.autograd.grad(F[i], x))\n",
    "    return J\n",
    "\n",
    "def get_jacobian(net, x, noutputs):\n",
    "    x = x.squeeze()\n",
    "    n = x.size()[0]\n",
    "    x = x.repeat(noutputs, 1)\n",
    "    x.requires_grad_(True)\n",
    "    y = net(x)\n",
    "    return torch.autograd.grad(y, x, torch.eye(noutputs))[0]\n",
    "#     return x.grad.data\n",
    "x = torch.randn(3).requires_grad_(True)\n",
    "net = torch.nn.Linear(3,4)\n",
    "y = net(x)\n",
    "y_repeated = net(x_repeated)\n",
    "grad_inp_repeated = torch.Tensor([1,0,0,0])\n",
    "print (get_jacobian(net, x, 4))\n",
    "print (torch.autograd.grad(y, x, grad_inp_repeated)) # get the first row of jacobian matrix"
   ]
  },
  {
   "cell_type": "code",
   "execution_count": 25,
   "metadata": {},
   "outputs": [
    {
     "data": {
      "text/plain": [
       "(tensor([[-0.2356, -0.7961, -0.2054]]),)"
      ]
     },
     "execution_count": 25,
     "metadata": {},
     "output_type": "execute_result"
    }
   ],
   "source": [
    "# jacobian(x,y)\n",
    "torch.autograd.grad(y,x, torch.Tensor([[1,0,0,0]]))"
   ]
  },
  {
   "cell_type": "code",
   "execution_count": null,
   "metadata": {},
   "outputs": [],
   "source": []
  }
 ],
 "metadata": {
  "kernelspec": {
   "display_name": "Python 3",
   "language": "python",
   "name": "python3"
  },
  "language_info": {
   "codemirror_mode": {
    "name": "ipython",
    "version": 3
   },
   "file_extension": ".py",
   "mimetype": "text/x-python",
   "name": "python",
   "nbconvert_exporter": "python",
   "pygments_lexer": "ipython3",
   "version": "3.6.8"
  }
 },
 "nbformat": 4,
 "nbformat_minor": 2
}

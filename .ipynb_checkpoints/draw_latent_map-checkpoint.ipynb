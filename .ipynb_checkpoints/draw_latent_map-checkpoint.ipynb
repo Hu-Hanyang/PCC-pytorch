{
 "cells": [
  {
   "cell_type": "code",
   "execution_count": 1,
   "metadata": {},
   "outputs": [],
   "source": [
    "from PIL import Image, ImageDraw\n",
    "import numpy as np\n",
    "from colour import Color\n",
    "import torch\n",
    "from mdp.plane_obstacles_mdp import PlanarObstaclesMDP\n",
    "from pcc_model import PCC\n",
    "import matplotlib.pyplot as plt\n",
    "import os\n",
    "import json\n",
    "\n",
    "red = Color('blue')\n",
    "colors = list(red.range_to(Color(\"red\"),37))\n",
    "colors_rgb = [color.rgb for color in colors]\n",
    "\n",
    "mdp = PlanarObstaclesMDP()\n",
    "\n",
    "half_agent_size = mdp.half_agent_size\n",
    "width = mdp.width\n",
    "height = mdp.height\n",
    "start = int(np.round(mdp.half_agent_size))\n",
    "end = int(np.round(mdp.width - mdp.half_agent_size))\n",
    "obstacles = mdp.obstacles.astype(np.int)"
   ]
  },
  {
   "cell_type": "code",
   "execution_count": 2,
   "metadata": {},
   "outputs": [],
   "source": [
    "def is_valid_state(s):\n",
    "    if np.any(s < half_agent_size) or np.any(s > width - half_agent_size):\n",
    "        return False\n",
    "    for obs in obstacles:\n",
    "        dis = np.abs(obs - s)\n",
    "        if np.all(dis <= 1):\n",
    "            return False\n",
    "    return True\n",
    "\n",
    "invalid_pos = []\n",
    "for x in range(start, end + 1):\n",
    "    for y in range(start, end + 1):\n",
    "        s = [x,y]\n",
    "        if not is_valid_state(np.array(s)):\n",
    "            invalid_pos.append(s)"
   ]
  },
  {
   "cell_type": "code",
   "execution_count": 3,
   "metadata": {},
   "outputs": [],
   "source": [
    "def random_gradient():\n",
    "    img = Image.new(\"RGB\", (width, height), \"#FFFFFF\")\n",
    "    draw = ImageDraw.Draw(img)\n",
    "    \n",
    "    for i, color in zip(range(start, end+1), colors_rgb):\n",
    "        r1, g1, b1 = color[0] * 255., color[1] * 255., color[2] * 255.\n",
    "        draw.line((i,start,i,end), fill=(int(r1), int(g1), int(b1)))\n",
    "\n",
    "    img_arr = np.array(img)\n",
    "    for x, y in invalid_pos:\n",
    "        img_arr[x, y] = 255.\n",
    "    return img_arr / 255., img"
   ]
  },
  {
   "cell_type": "code",
   "execution_count": 4,
   "metadata": {},
   "outputs": [],
   "source": [
    "img_arr, img = random_gradient()"
   ]
  },
  {
   "cell_type": "code",
   "execution_count": 5,
   "metadata": {
    "scrolled": false
   },
   "outputs": [
    {
     "data": {
      "image/png": "[encoded data removed]",
      "text/plain": [
       "<Figure size 432x288 with 1 Axes>"
      ]
     },
     "metadata": {
      "needs_background": "light"
     },
     "output_type": "display_data"
    }
   ],
   "source": [
    "plt.imshow(img_arr)\n",
    "# plt.axis('off')\n",
    "plt.show()"
   ]
  },
  {
   "cell_type": "code",
   "execution_count": 6,
   "metadata": {},
   "outputs": [],
   "source": [
    "img_scaled = Image.new(\"RGB\", (width * 10, height*10), \"#FFFFFF\")\n",
    "draw = ImageDraw.Draw(img_scaled)\n",
    "for y in range(start, end + 1):\n",
    "    for x in range(start, end + 1):\n",
    "        if [y, x] in invalid_pos:\n",
    "            continue\n",
    "        else:\n",
    "            x_scaled, y_scaled = x * 10, y * 10\n",
    "            draw.ellipse((x_scaled-2, y_scaled-2, x_scaled+2, y_scaled+2), fill = img.getpixel((x,y)))\n",
    "img_scaled.save('map.png', 'PNG')\n",
    "img_arr_scaled = np.array(img_scaled) / 255."
   ]
  },
  {
   "cell_type": "code",
   "execution_count": 7,
   "metadata": {},
   "outputs": [
    {
     "ename": "NameError",
     "evalue": "name 'json' is not defined",
     "output_type": "error",
     "traceback": [
      "\u001b[0;31m---------------------------------------------------------------------------\u001b[0m",
      "\u001b[0;31mNameError\u001b[0m                                 Traceback (most recent call last)",
      "\u001b[0;32m<ipython-input-7-2d55cffb4826>\u001b[0m in \u001b[0;36m<module>\u001b[0;34m\u001b[0m\n\u001b[1;32m      5\u001b[0m \u001b[0;32mfor\u001b[0m \u001b[0mlog\u001b[0m \u001b[0;32min\u001b[0m \u001b[0mlog_folders\u001b[0m\u001b[0;34m:\u001b[0m\u001b[0;34m\u001b[0m\u001b[0;34m\u001b[0m\u001b[0m\n\u001b[1;32m      6\u001b[0m     \u001b[0;32mwith\u001b[0m \u001b[0mopen\u001b[0m\u001b[0;34m(\u001b[0m\u001b[0mlog\u001b[0m \u001b[0;34m+\u001b[0m \u001b[0;34m'/settings'\u001b[0m\u001b[0;34m,\u001b[0m \u001b[0;34m'r'\u001b[0m\u001b[0;34m)\u001b[0m \u001b[0;32mas\u001b[0m \u001b[0mf\u001b[0m\u001b[0;34m:\u001b[0m\u001b[0;34m\u001b[0m\u001b[0;34m\u001b[0m\u001b[0m\n\u001b[0;32m----> 7\u001b[0;31m         \u001b[0msettings\u001b[0m \u001b[0;34m=\u001b[0m \u001b[0mjson\u001b[0m\u001b[0;34m.\u001b[0m\u001b[0mload\u001b[0m\u001b[0;34m(\u001b[0m\u001b[0mf\u001b[0m\u001b[0;34m)\u001b[0m\u001b[0;34m\u001b[0m\u001b[0;34m\u001b[0m\u001b[0m\n\u001b[0m\u001b[1;32m      8\u001b[0m     \u001b[0marmotized\u001b[0m \u001b[0;34m=\u001b[0m \u001b[0msettings\u001b[0m\u001b[0;34m[\u001b[0m\u001b[0;34m'armotized'\u001b[0m\u001b[0;34m]\u001b[0m\u001b[0;34m\u001b[0m\u001b[0;34m\u001b[0m\u001b[0m\n\u001b[1;32m      9\u001b[0m     \u001b[0mmodel\u001b[0m \u001b[0;34m=\u001b[0m \u001b[0mPCC\u001b[0m\u001b[0;34m(\u001b[0m\u001b[0marmotized\u001b[0m\u001b[0;34m,\u001b[0m\u001b[0;36m1600\u001b[0m\u001b[0;34m,\u001b[0m\u001b[0;36m2\u001b[0m\u001b[0;34m,\u001b[0m\u001b[0;36m2\u001b[0m\u001b[0;34m,\u001b[0m\u001b[0;34m'planar'\u001b[0m\u001b[0;34m)\u001b[0m\u001b[0;34m.\u001b[0m\u001b[0mcuda\u001b[0m\u001b[0;34m(\u001b[0m\u001b[0;34m)\u001b[0m\u001b[0;34m\u001b[0m\u001b[0;34m\u001b[0m\u001b[0m\n",
      "\u001b[0;31mNameError\u001b[0m: name 'json' is not defined"
     ]
    }
   ],
   "source": [
    "folder = 'new_mdp_result/planar'\n",
    "log_folders = [os.path.join(folder, dI) for dI in os.listdir(folder) if os.path.isdir(os.path.join(folder,dI))]\n",
    "log_folders.sort()\n",
    "\n",
    "for log in log_folders:\n",
    "    with open(log + '/settings', 'r') as f:\n",
    "        settings = json.load(f)\n",
    "    armotized = settings['armotized']\n",
    "    model = PCC(armotized,1600,2,2,'planar').cuda()\n",
    "    print ('Drawing map ' + log)\n",
    "    if not os.path.exists(log + '/model_4000'):\n",
    "        continue\n",
    "    model.load_state_dict(torch.load(log + '/model_5000'))\n",
    "    model.eval()\n",
    "    \n",
    "    # compute latent z\n",
    "    all_z = []\n",
    "    for x in range(start, end + 1):\n",
    "        for y in range(start, end + 1):\n",
    "            s = np.array([x,y])\n",
    "            if [x,y] in invalid_pos:\n",
    "                all_z.append(np.zeros(2))\n",
    "            else:\n",
    "                obs = env.render(s)\n",
    "                with torch.no_grad():\n",
    "                    obs = torch.Tensor(env.render(s)).unsqueeze(0).view(-1,1600).double().cuda()\n",
    "                    mu, sigma = model.encode(obs)\n",
    "                z = mu.squeeze().cpu().numpy()\n",
    "                all_z.append(np.copy(z))\n",
    "    all_z = np.array(all_z)\n",
    "\n",
    "    # normalize and scale to plot\n",
    "    z_min = np.min(all_z, axis = 0)\n",
    "    all_z = np.round(15 * (all_z - z_min) + 30).astype(np.int)\n",
    "    \n",
    "    # compute the average difference between 2 consecutive points\n",
    "#     count = 0\n",
    "#     diff = 0.0\n",
    "#     for i in range(0, all_z.shape[0] - 1):\n",
    "#         diff += np.sum(np.abs(all_z[i] - all_z[i+1]))\n",
    "#         count += 1\n",
    "#     avg_diff = diff / count\n",
    "#     print (avg_diff)\n",
    "\n",
    "    # count the number of distinct latent representations\n",
    "#     count = 0\n",
    "#     d = {}\n",
    "#     for z in all_z:\n",
    "#         z_tuple = tuple(z)\n",
    "#         if z_tuple not in d:\n",
    "#             count += 1\n",
    "#             d[z_tuple] = 0\n",
    "#     print ('Log: ' + log + ', ' + str(count))\n",
    "#     z_max = np.max(all_z, axis = 0)\n",
    "#     z_min = np.min(all_z, axis = 0)\n",
    "#     print ('Max: ' + str(z_max) + ', Min: ' + str(z_min))\n",
    "\n",
    "    # plot\n",
    "    latent_map = {}\n",
    "    i = 0\n",
    "    for x in range(start, end + 1):\n",
    "        for y in range(start, end + 1):\n",
    "            latent_map[(x,y)] = all_z[i]\n",
    "            i += 1\n",
    "            \n",
    "    img_latent = Image.new(\"RGB\", (env.width * 10, env.height * 10), \"#FFFFFF\")\n",
    "    draw = ImageDraw.Draw(img_latent)\n",
    "    for k in latent_map:\n",
    "        x, y = k\n",
    "        if [x, y] in invalid_pos:\n",
    "            continue\n",
    "        else:\n",
    "            x_scaled, y_scaled = latent_map[k][1], latent_map[k][0]\n",
    "            draw.ellipse((x_scaled-2, y_scaled-2, x_scaled+2, y_scaled+2), fill = img.getpixel((y, x)))\n",
    "    img_latent_scaled = np.array(img_latent) / 255.\n",
    "\n",
    "    f, axarr = plt.subplots(1,2, figsize=(15,15))\n",
    "    axarr[0].imshow(img_arr_scaled)\n",
    "    axarr[1].imshow(img_latent_scaled)\n",
    "    latent_map_dir = 'latent_map/'\n",
    "    if not os.path.exists(latent_map_dir):\n",
    "        os.makedirs(latent_map_dir)\n",
    "#     f.savefig(latent_map_dir + os.path.basename(os.path.normpath(log)) + '.png',\n",
    "#               bbox_inches=\"tight\")\n",
    "    plt.show()"
   ]
  },
  {
   "cell_type": "code",
   "execution_count": null,
   "metadata": {},
   "outputs": [],
   "source": [
    "count = 0\n",
    "sum_diff_x = 0.0\n",
    "sum_diff_y = 0.0\n",
    "for i in range(0, all_z.shape[0] - 1):\n",
    "    sum_diff_x += np.abs(all_z[i][0] - all_z[i+1][0])\n",
    "    sum_diff_y += np.abs(all_z[i][1] - all_z[i+1][1])\n",
    "    count += 1\n",
    "avg_diff_x = sum_diff_x / count\n",
    "avg_diff_y = sum_diff_y / count\n",
    "1 / avg_diff_x, 1 / avg_diff_y"
   ]
  }
 ],
 "metadata": {
  "kernelspec": {
   "display_name": "Python 3",
   "language": "python",
   "name": "python3"
  },
  "language_info": {
   "codemirror_mode": {
    "name": "ipython",
    "version": 3
   },
   "file_extension": ".py",
   "mimetype": "text/x-python",
   "name": "python",
   "nbconvert_exporter": "python",
   "pygments_lexer": "ipython3",
   "version": "3.6.8"
  }
 },
 "nbformat": 4,
 "nbformat_minor": 2
}
